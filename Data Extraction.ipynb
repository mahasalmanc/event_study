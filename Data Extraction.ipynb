{
 "cells": [
  {
   "cell_type": "code",
   "execution_count": null,
   "id": "1cfcd564",
   "metadata": {},
   "outputs": [],
   "source": [
    "import yfinance as yf\n",
    "import pandas as pd\n",
    "\n",
    "# Tickers being considered for the event study\n",
    "tickers = [\n",
    "    \"NVDA\", \"AMD\", \"TSM\",             # AI Enablers\n",
    "    \"MSFT\", \"GOOG\", \"META\",           # AI Leaders\n",
    "    \"ADBE\", \"CRM\", \"NOW\", \"AAPL\",     # AI Integrators\n",
    "    \"CHGG\", \"PSO\",                    # AI Disrupted\n",
    "    \"JPM\", \"WFC\", \"BAC\",      \n",
    "    \"^GSPC\"                           # Market Index\n",
    "]\n",
    "\n",
    "# === Date Range for Initial ChatGPT Launch Event Study ===\n",
    "start_date = \"2021-11-01\"\n",
    "end_date = \"2023-01-10\"  # covers pre/post event window around Nov 30, 2022\n",
    "\n",
    "# === Download Data ===\n",
    "data = yf.download(tickers, start=start_date, end=end_date)[\"Close\"]\n",
    "\n",
    "# === Save to Excel ===\n",
    "data.to_excel(\"chatgpt_launch_data.xlsx\")"
   ]
  },
  {
   "cell_type": "code",
   "execution_count": null,
   "id": "05eefe50",
   "metadata": {},
   "outputs": [],
   "source": [
    "# Tickers being considered for the event study\n",
    "tickers = [\n",
    "    \"NVDA\", \"AMD\", \"TSM\",             # AI Enablers\n",
    "    \"MSFT\", \"GOOG\", \"META\",           # AI Leaders\n",
    "    \"ADBE\", \"CRM\", \"NOW\", \"AAPL\",     # AI Integrators\n",
    "    \"CHGG\", \"PSO\",                    # AI Disrupted\n",
    "    \"JPM\", \"WFC\", \"BAC\",      \n",
    "    \"^GSPC\"                           # Market Index\n",
    "]\n",
    "\n",
    "# === Date Range for ChatGPT 4o Release Event Study ===\n",
    "start_date = \"2023-04-13\"\n",
    "end_date = \"2024-06-20\"  # covers pre/post event window around May 13, 2024\n",
    "\n",
    "# === Download Data ===\n",
    "data = yf.download(tickers, start=start_date, end=end_date)[\"Close\"]\n",
    "\n",
    "# === Save to Excel ===\n",
    "data.to_excel(\"chatgpt4o_may13_event_data.xlsx\")"
   ]
  }
 ],
 "metadata": {
  "kernelspec": {
   "display_name": "Python 3 (ipykernel)",
   "language": "python",
   "name": "python3"
  },
  "language_info": {
   "codemirror_mode": {
    "name": "ipython",
    "version": 3
   },
   "file_extension": ".py",
   "mimetype": "text/x-python",
   "name": "python",
   "nbconvert_exporter": "python",
   "pygments_lexer": "ipython3",
   "version": "3.11.4"
  }
 },
 "nbformat": 4,
 "nbformat_minor": 5
}
